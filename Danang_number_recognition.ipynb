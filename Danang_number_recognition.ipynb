{
 "cells": [
  {
   "cell_type": "code",
   "execution_count": 2,
   "metadata": {},
   "outputs": [],
   "source": [
    "import numpy as np"
   ]
  },
  {
   "cell_type": "code",
   "execution_count": 3,
   "metadata": {},
   "outputs": [],
   "source": [
    "import keras"
   ]
  },
  {
   "cell_type": "code",
   "execution_count": 4,
   "metadata": {},
   "outputs": [
    {
     "data": {
      "text/plain": [
       "'2.5.0'"
      ]
     },
     "execution_count": 4,
     "metadata": {},
     "output_type": "execute_result"
    }
   ],
   "source": [
    "keras.__version__"
   ]
  },
  {
   "cell_type": "code",
   "execution_count": 5,
   "metadata": {},
   "outputs": [],
   "source": [
    "from keras.models import Sequential"
   ]
  },
  {
   "cell_type": "code",
   "execution_count": 6,
   "metadata": {},
   "outputs": [],
   "source": [
    "from keras.datasets import mnist\n",
    "from keras.layers import Dense, Dropout, Activation, Flatten"
   ]
  },
  {
   "cell_type": "code",
   "execution_count": 7,
   "metadata": {},
   "outputs": [],
   "source": [
    "from keras.utils import np_utils # let label transit to 0ne-hot-encoding"
   ]
  },
  {
   "cell_type": "code",
   "execution_count": 8,
   "metadata": {},
   "outputs": [],
   "source": [
    "from matplotlib import pyplot as plt\n",
    "import cv2"
   ]
  },
  {
   "cell_type": "code",
   "execution_count": 9,
   "metadata": {},
   "outputs": [
    {
     "name": "stdout",
     "output_type": "stream",
     "text": [
      "Downloading data from https://storage.googleapis.com/tensorflow/tf-keras-datasets/mnist.npz\n",
      "11493376/11490434 [==============================] - 716s 62us/step\n",
      "11501568/11490434 [==============================] - 716s 62us/step\n"
     ]
    }
   ],
   "source": [
    "(X_train, y_train), (X_test, y_test) = mnist.load_data()  # grouping the minst's data to train and test group"
   ]
  },
  {
   "cell_type": "code",
   "execution_count": 10,
   "metadata": {},
   "outputs": [
    {
     "name": "stdout",
     "output_type": "stream",
     "text": [
      "(10000, 28, 28)\n"
     ]
    }
   ],
   "source": [
    "print(X_test.shape)  #there are 10000 test images, and the image is in 28 x 28 format"
   ]
  },
  {
   "cell_type": "code",
   "execution_count": 11,
   "metadata": {},
   "outputs": [
    {
     "name": "stdout",
     "output_type": "stream",
     "text": [
      "(10000,)\n"
     ]
    }
   ],
   "source": [
    "print(y_test.shape) # the corresponging number with respect to 10000 images is 10000 as predicted"
   ]
  },
  {
   "cell_type": "code",
   "execution_count": 12,
   "metadata": {},
   "outputs": [],
   "source": [
    "model = Sequential() # create linear implementing model"
   ]
  },
  {
   "cell_type": "code",
   "execution_count": 13,
   "metadata": {},
   "outputs": [],
   "source": [
    "model.add(Dense(units=256, input_dim=784, kernel_initializer='normal', activation='relu')) # add input layer and hidden layer"
   ]
  },
  {
   "cell_type": "code",
   "execution_count": 14,
   "metadata": {},
   "outputs": [],
   "source": [
    "model.add(Dense(units=10, kernel_initializer='normal', activation='softmax')) # add output layer\n"
   ]
  },
  {
   "cell_type": "code",
   "execution_count": 15,
   "metadata": {},
   "outputs": [],
   "source": [
    "model.compile(loss='categorical_crossentropy', optimizer='adam', metrics=['accuracy']) # Compilation: Choose loss function, optimization method and effectiveness measurement method"
   ]
  },
  {
   "cell_type": "code",
   "execution_count": 16,
   "metadata": {},
   "outputs": [],
   "source": [
    "y_TrainOneHot = np_utils.to_categorical(y_train)"
   ]
  },
  {
   "cell_type": "code",
   "execution_count": 17,
   "metadata": {},
   "outputs": [],
   "source": [
    "_TestOneHot = np_utils.to_categorical(y_test)"
   ]
  },
  {
   "cell_type": "code",
   "execution_count": 18,
   "metadata": {},
   "outputs": [],
   "source": [
    "X_train_2D = X_train.reshape(60000, 28*28).astype('float32')\n",
    "X_test_2D = X_test.reshape(10000, 28*28).astype('float32') # 2D-1D"
   ]
  },
  {
   "cell_type": "code",
   "execution_count": 19,
   "metadata": {},
   "outputs": [
    {
     "name": "stdout",
     "output_type": "stream",
     "text": [
      "(60000, 28, 28)\n"
     ]
    }
   ],
   "source": [
    "print(X_train.shape) #there are 10000 test images, and the image is in 28 x 28 format"
   ]
  },
  {
   "cell_type": "code",
   "execution_count": 20,
   "metadata": {},
   "outputs": [
    {
     "name": "stdout",
     "output_type": "stream",
     "text": [
      "(60000,)\n"
     ]
    }
   ],
   "source": [
    "print(y_train.shape)"
   ]
  },
  {
   "cell_type": "code",
   "execution_count": 21,
   "metadata": {},
   "outputs": [
    {
     "name": "stdout",
     "output_type": "stream",
     "text": [
      "X_test_2D:  (10000, 784)\n"
     ]
    }
   ],
   "source": [
    "print(\"X_test_2D: \",X_test_2D.shape)"
   ]
  },
  {
   "cell_type": "code",
   "execution_count": 22,
   "metadata": {},
   "outputs": [
    {
     "name": "stdout",
     "output_type": "stream",
     "text": [
      "X_train_2d (60000, 784)\n"
     ]
    }
   ],
   "source": [
    "print('X_train_2d',X_train_2D.shape)"
   ]
  },
  {
   "cell_type": "code",
   "execution_count": 23,
   "metadata": {},
   "outputs": [],
   "source": [
    "x_Train_norm = X_train_2D/255\n",
    "x_Test_norm = X_test_2D/255 # important process"
   ]
  },
  {
   "cell_type": "code",
   "execution_count": 27,
   "metadata": {},
   "outputs": [],
   "source": [
    "x_Train_norm = X_train_2D/255\n",
    "x_Test_norm = X_test_2D/255 # important process"
   ]
  },
  {
   "cell_type": "code",
   "execution_count": 31,
   "metadata": {},
   "outputs": [],
   "source": [
    "y_TestOneHot = None # define the y_Test"
   ]
  },
  {
   "cell_type": "code",
   "execution_count": 35,
   "metadata": {
    "scrolled": true
   },
   "outputs": [
    {
     "name": "stdout",
     "output_type": "stream",
     "text": [
      "[3 3 3 3 3 3 3 3 3]\n"
     ]
    }
   ],
   "source": [
    "print(predictions)"
   ]
  },
  {
   "cell_type": "code",
   "execution_count": 36,
   "metadata": {},
   "outputs": [
    {
     "name": "stdout",
     "output_type": "stream",
     "text": [
      "Epoch 1/100\n",
      "60/60 - 12s - loss: 0.7877 - accuracy: 0.8073 - val_loss: 0.3260 - val_accuracy: 0.9112\n",
      "Epoch 2/100\n",
      "60/60 - 2s - loss: 0.2995 - accuracy: 0.9164 - val_loss: 0.2482 - val_accuracy: 0.9315\n",
      "Epoch 3/100\n",
      "60/60 - 2s - loss: 0.2357 - accuracy: 0.9340 - val_loss: 0.2089 - val_accuracy: 0.9422\n",
      "Epoch 4/100\n",
      "60/60 - 2s - loss: 0.1956 - accuracy: 0.9451 - val_loss: 0.1801 - val_accuracy: 0.9506\n",
      "Epoch 5/100\n",
      "60/60 - 2s - loss: 0.1659 - accuracy: 0.9532 - val_loss: 0.1600 - val_accuracy: 0.9565\n",
      "Epoch 6/100\n",
      "60/60 - 2s - loss: 0.1428 - accuracy: 0.9597 - val_loss: 0.1461 - val_accuracy: 0.9591\n",
      "Epoch 7/100\n",
      "60/60 - 2s - loss: 0.1259 - accuracy: 0.9646 - val_loss: 0.1342 - val_accuracy: 0.9625\n",
      "Epoch 8/100\n",
      "60/60 - 2s - loss: 0.1101 - accuracy: 0.9700 - val_loss: 0.1232 - val_accuracy: 0.9646\n",
      "Epoch 9/100\n",
      "60/60 - 2s - loss: 0.0977 - accuracy: 0.9731 - val_loss: 0.1182 - val_accuracy: 0.9665\n",
      "Epoch 10/100\n",
      "60/60 - 2s - loss: 0.0875 - accuracy: 0.9766 - val_loss: 0.1103 - val_accuracy: 0.9678\n",
      "Epoch 11/100\n",
      "60/60 - 2s - loss: 0.0783 - accuracy: 0.9794 - val_loss: 0.1049 - val_accuracy: 0.9690\n",
      "Epoch 12/100\n",
      "60/60 - 2s - loss: 0.0706 - accuracy: 0.9807 - val_loss: 0.1013 - val_accuracy: 0.9693\n",
      "Epoch 13/100\n",
      "60/60 - 2s - loss: 0.0644 - accuracy: 0.9828 - val_loss: 0.0984 - val_accuracy: 0.9707\n",
      "Epoch 14/100\n",
      "60/60 - 2s - loss: 0.0581 - accuracy: 0.9848 - val_loss: 0.0945 - val_accuracy: 0.9720\n",
      "Epoch 15/100\n",
      "60/60 - 2s - loss: 0.0524 - accuracy: 0.9863 - val_loss: 0.0927 - val_accuracy: 0.9727\n",
      "Epoch 16/100\n",
      "60/60 - 2s - loss: 0.0481 - accuracy: 0.9877 - val_loss: 0.0898 - val_accuracy: 0.9740\n",
      "Epoch 17/100\n",
      "60/60 - 2s - loss: 0.0440 - accuracy: 0.9890 - val_loss: 0.0874 - val_accuracy: 0.9739\n",
      "Epoch 18/100\n",
      "60/60 - 2s - loss: 0.0394 - accuracy: 0.9904 - val_loss: 0.0855 - val_accuracy: 0.9744\n",
      "Epoch 19/100\n",
      "60/60 - 2s - loss: 0.0365 - accuracy: 0.9909 - val_loss: 0.0850 - val_accuracy: 0.9745\n",
      "Epoch 20/100\n",
      "60/60 - 2s - loss: 0.0333 - accuracy: 0.9923 - val_loss: 0.0844 - val_accuracy: 0.9753\n",
      "Epoch 21/100\n",
      "60/60 - 2s - loss: 0.0304 - accuracy: 0.9931 - val_loss: 0.0832 - val_accuracy: 0.9752\n",
      "Epoch 22/100\n",
      "60/60 - 2s - loss: 0.0282 - accuracy: 0.9938 - val_loss: 0.0815 - val_accuracy: 0.9754\n",
      "Epoch 23/100\n",
      "60/60 - 2s - loss: 0.0257 - accuracy: 0.9949 - val_loss: 0.0819 - val_accuracy: 0.9753\n",
      "Epoch 24/100\n",
      "60/60 - 2s - loss: 0.0237 - accuracy: 0.9955 - val_loss: 0.0808 - val_accuracy: 0.9761\n",
      "Epoch 25/100\n",
      "60/60 - 2s - loss: 0.0217 - accuracy: 0.9959 - val_loss: 0.0826 - val_accuracy: 0.9759\n",
      "Epoch 26/100\n",
      "60/60 - 2s - loss: 0.0203 - accuracy: 0.9964 - val_loss: 0.0812 - val_accuracy: 0.9767\n",
      "Epoch 27/100\n",
      "60/60 - 2s - loss: 0.0184 - accuracy: 0.9969 - val_loss: 0.0818 - val_accuracy: 0.9767\n",
      "Epoch 28/100\n",
      "60/60 - 2s - loss: 0.0170 - accuracy: 0.9973 - val_loss: 0.0812 - val_accuracy: 0.9775\n",
      "Epoch 29/100\n",
      "60/60 - 1s - loss: 0.0154 - accuracy: 0.9978 - val_loss: 0.0794 - val_accuracy: 0.9778\n",
      "Epoch 30/100\n",
      "60/60 - 2s - loss: 0.0143 - accuracy: 0.9983 - val_loss: 0.0794 - val_accuracy: 0.9781\n",
      "Epoch 31/100\n",
      "60/60 - 2s - loss: 0.0136 - accuracy: 0.9983 - val_loss: 0.0802 - val_accuracy: 0.9772\n",
      "Epoch 32/100\n",
      "60/60 - 2s - loss: 0.0121 - accuracy: 0.9987 - val_loss: 0.0801 - val_accuracy: 0.9780\n",
      "Epoch 33/100\n",
      "60/60 - 2s - loss: 0.0112 - accuracy: 0.9989 - val_loss: 0.0806 - val_accuracy: 0.9772\n",
      "Epoch 34/100\n",
      "60/60 - 2s - loss: 0.0104 - accuracy: 0.9992 - val_loss: 0.0818 - val_accuracy: 0.9772\n",
      "Epoch 35/100\n",
      "60/60 - 2s - loss: 0.0099 - accuracy: 0.9991 - val_loss: 0.0816 - val_accuracy: 0.9773\n",
      "Epoch 36/100\n",
      "60/60 - 2s - loss: 0.0089 - accuracy: 0.9994 - val_loss: 0.0843 - val_accuracy: 0.9778\n",
      "Epoch 37/100\n",
      "60/60 - 2s - loss: 0.0083 - accuracy: 0.9994 - val_loss: 0.0815 - val_accuracy: 0.9784\n",
      "Epoch 38/100\n",
      "60/60 - 2s - loss: 0.0076 - accuracy: 0.9995 - val_loss: 0.0828 - val_accuracy: 0.9785\n",
      "Epoch 39/100\n",
      "60/60 - 2s - loss: 0.0072 - accuracy: 0.9995 - val_loss: 0.0821 - val_accuracy: 0.9781\n",
      "Epoch 40/100\n",
      "60/60 - 2s - loss: 0.0066 - accuracy: 0.9997 - val_loss: 0.0844 - val_accuracy: 0.9778\n",
      "Epoch 41/100\n",
      "60/60 - 2s - loss: 0.0063 - accuracy: 0.9996 - val_loss: 0.0856 - val_accuracy: 0.9772\n",
      "Epoch 42/100\n",
      "60/60 - 2s - loss: 0.0057 - accuracy: 0.9998 - val_loss: 0.0835 - val_accuracy: 0.9783\n",
      "Epoch 43/100\n",
      "60/60 - 2s - loss: 0.0052 - accuracy: 0.9998 - val_loss: 0.0835 - val_accuracy: 0.9785\n",
      "Epoch 44/100\n",
      "60/60 - 2s - loss: 0.0050 - accuracy: 0.9998 - val_loss: 0.0833 - val_accuracy: 0.9782\n",
      "Epoch 45/100\n",
      "60/60 - 2s - loss: 0.0046 - accuracy: 0.9998 - val_loss: 0.0850 - val_accuracy: 0.9783\n",
      "Epoch 46/100\n",
      "60/60 - 1s - loss: 0.0044 - accuracy: 0.9999 - val_loss: 0.0849 - val_accuracy: 0.9785\n",
      "Epoch 47/100\n",
      "60/60 - 2s - loss: 0.0040 - accuracy: 0.9999 - val_loss: 0.0850 - val_accuracy: 0.9787\n",
      "Epoch 48/100\n",
      "60/60 - 2s - loss: 0.0037 - accuracy: 0.9999 - val_loss: 0.0872 - val_accuracy: 0.9778\n",
      "Epoch 49/100\n",
      "60/60 - 1s - loss: 0.0037 - accuracy: 0.9999 - val_loss: 0.0853 - val_accuracy: 0.9784\n",
      "Epoch 50/100\n",
      "60/60 - 2s - loss: 0.0033 - accuracy: 1.0000 - val_loss: 0.0865 - val_accuracy: 0.9780\n",
      "Epoch 51/100\n",
      "60/60 - 2s - loss: 0.0031 - accuracy: 0.9999 - val_loss: 0.0863 - val_accuracy: 0.9787\n",
      "Epoch 52/100\n",
      "60/60 - 2s - loss: 0.0030 - accuracy: 1.0000 - val_loss: 0.0871 - val_accuracy: 0.9778\n",
      "Epoch 53/100\n",
      "60/60 - 2s - loss: 0.0028 - accuracy: 1.0000 - val_loss: 0.0882 - val_accuracy: 0.9784\n",
      "Epoch 54/100\n",
      "60/60 - 2s - loss: 0.0026 - accuracy: 1.0000 - val_loss: 0.0880 - val_accuracy: 0.9783\n",
      "Epoch 55/100\n",
      "60/60 - 2s - loss: 0.0025 - accuracy: 1.0000 - val_loss: 0.0887 - val_accuracy: 0.9779\n",
      "Epoch 56/100\n",
      "60/60 - 2s - loss: 0.0024 - accuracy: 1.0000 - val_loss: 0.0882 - val_accuracy: 0.9780\n",
      "Epoch 57/100\n",
      "60/60 - 2s - loss: 0.0023 - accuracy: 1.0000 - val_loss: 0.0902 - val_accuracy: 0.9779\n",
      "Epoch 58/100\n",
      "60/60 - 2s - loss: 0.0021 - accuracy: 1.0000 - val_loss: 0.0888 - val_accuracy: 0.9779\n",
      "Epoch 59/100\n",
      "60/60 - 2s - loss: 0.0020 - accuracy: 1.0000 - val_loss: 0.0903 - val_accuracy: 0.9785\n",
      "Epoch 60/100\n",
      "60/60 - 2s - loss: 0.0019 - accuracy: 1.0000 - val_loss: 0.0914 - val_accuracy: 0.9783\n",
      "Epoch 61/100\n",
      "60/60 - 2s - loss: 0.0018 - accuracy: 1.0000 - val_loss: 0.0907 - val_accuracy: 0.9780\n",
      "Epoch 62/100\n",
      "60/60 - 2s - loss: 0.0017 - accuracy: 1.0000 - val_loss: 0.0913 - val_accuracy: 0.9783\n",
      "Epoch 63/100\n",
      "60/60 - 2s - loss: 0.0016 - accuracy: 1.0000 - val_loss: 0.0913 - val_accuracy: 0.9784\n",
      "Epoch 64/100\n",
      "60/60 - 2s - loss: 0.0016 - accuracy: 1.0000 - val_loss: 0.0910 - val_accuracy: 0.9788\n",
      "Epoch 65/100\n",
      "60/60 - 2s - loss: 0.0014 - accuracy: 1.0000 - val_loss: 0.0930 - val_accuracy: 0.9783\n",
      "Epoch 66/100\n",
      "60/60 - 2s - loss: 0.0014 - accuracy: 1.0000 - val_loss: 0.0930 - val_accuracy: 0.9785\n",
      "Epoch 67/100\n",
      "60/60 - 2s - loss: 0.0013 - accuracy: 1.0000 - val_loss: 0.0930 - val_accuracy: 0.9784\n",
      "Epoch 68/100\n",
      "60/60 - 2s - loss: 0.0013 - accuracy: 1.0000 - val_loss: 0.0934 - val_accuracy: 0.9784\n",
      "Epoch 69/100\n",
      "60/60 - 2s - loss: 0.0012 - accuracy: 1.0000 - val_loss: 0.0941 - val_accuracy: 0.9786\n",
      "Epoch 70/100\n",
      "60/60 - 2s - loss: 0.0011 - accuracy: 1.0000 - val_loss: 0.0947 - val_accuracy: 0.9783\n",
      "Epoch 71/100\n",
      "60/60 - 2s - loss: 0.0011 - accuracy: 1.0000 - val_loss: 0.0945 - val_accuracy: 0.9784\n",
      "Epoch 72/100\n",
      "60/60 - 2s - loss: 0.0011 - accuracy: 1.0000 - val_loss: 0.0948 - val_accuracy: 0.9783\n",
      "Epoch 73/100\n",
      "60/60 - 2s - loss: 0.0010 - accuracy: 1.0000 - val_loss: 0.0959 - val_accuracy: 0.9787\n",
      "Epoch 74/100\n",
      "60/60 - 2s - loss: 9.4273e-04 - accuracy: 1.0000 - val_loss: 0.0963 - val_accuracy: 0.9785\n",
      "Epoch 75/100\n",
      "60/60 - 2s - loss: 8.9813e-04 - accuracy: 1.0000 - val_loss: 0.0962 - val_accuracy: 0.9783\n",
      "Epoch 76/100\n",
      "60/60 - 2s - loss: 8.6813e-04 - accuracy: 1.0000 - val_loss: 0.0974 - val_accuracy: 0.9781\n",
      "Epoch 77/100\n",
      "60/60 - 2s - loss: 8.2792e-04 - accuracy: 1.0000 - val_loss: 0.0986 - val_accuracy: 0.9783\n",
      "Epoch 78/100\n",
      "60/60 - 2s - loss: 8.1225e-04 - accuracy: 1.0000 - val_loss: 0.0982 - val_accuracy: 0.9783\n",
      "Epoch 79/100\n",
      "60/60 - 2s - loss: 7.5943e-04 - accuracy: 1.0000 - val_loss: 0.0981 - val_accuracy: 0.9785\n",
      "Epoch 80/100\n",
      "60/60 - 2s - loss: 7.2928e-04 - accuracy: 1.0000 - val_loss: 0.0976 - val_accuracy: 0.9789\n",
      "Epoch 81/100\n",
      "60/60 - 2s - loss: 6.9358e-04 - accuracy: 1.0000 - val_loss: 0.0984 - val_accuracy: 0.9785\n",
      "Epoch 82/100\n",
      "60/60 - 2s - loss: 6.6495e-04 - accuracy: 1.0000 - val_loss: 0.0994 - val_accuracy: 0.9790\n"
     ]
    },
    {
     "name": "stdout",
     "output_type": "stream",
     "text": [
      "Epoch 83/100\n",
      "60/60 - 2s - loss: 6.3762e-04 - accuracy: 1.0000 - val_loss: 0.0999 - val_accuracy: 0.9791\n",
      "Epoch 84/100\n",
      "60/60 - 2s - loss: 6.1175e-04 - accuracy: 1.0000 - val_loss: 0.0993 - val_accuracy: 0.9791\n",
      "Epoch 85/100\n",
      "60/60 - 2s - loss: 5.7846e-04 - accuracy: 1.0000 - val_loss: 0.0998 - val_accuracy: 0.9787\n",
      "Epoch 86/100\n",
      "60/60 - 2s - loss: 5.5722e-04 - accuracy: 1.0000 - val_loss: 0.1008 - val_accuracy: 0.9785\n",
      "Epoch 87/100\n",
      "60/60 - 2s - loss: 5.4083e-04 - accuracy: 1.0000 - val_loss: 0.1009 - val_accuracy: 0.9793\n",
      "Epoch 88/100\n",
      "60/60 - 2s - loss: 5.1641e-04 - accuracy: 1.0000 - val_loss: 0.1013 - val_accuracy: 0.9787\n",
      "Epoch 89/100\n",
      "60/60 - 1s - loss: 5.0192e-04 - accuracy: 1.0000 - val_loss: 0.1030 - val_accuracy: 0.9781\n",
      "Epoch 90/100\n",
      "60/60 - 2s - loss: 4.7671e-04 - accuracy: 1.0000 - val_loss: 0.1025 - val_accuracy: 0.9786\n",
      "Epoch 91/100\n",
      "60/60 - 1s - loss: 4.5855e-04 - accuracy: 1.0000 - val_loss: 0.1029 - val_accuracy: 0.9789\n",
      "Epoch 92/100\n",
      "60/60 - 2s - loss: 4.3627e-04 - accuracy: 1.0000 - val_loss: 0.1030 - val_accuracy: 0.9785\n",
      "Epoch 93/100\n",
      "60/60 - 2s - loss: 4.1796e-04 - accuracy: 1.0000 - val_loss: 0.1032 - val_accuracy: 0.9787\n",
      "Epoch 94/100\n",
      "60/60 - 2s - loss: 4.0538e-04 - accuracy: 1.0000 - val_loss: 0.1035 - val_accuracy: 0.9785\n",
      "Epoch 95/100\n",
      "60/60 - 2s - loss: 3.8545e-04 - accuracy: 1.0000 - val_loss: 0.1036 - val_accuracy: 0.9785\n",
      "Epoch 96/100\n",
      "60/60 - 2s - loss: 3.7429e-04 - accuracy: 1.0000 - val_loss: 0.1050 - val_accuracy: 0.9783\n",
      "Epoch 97/100\n",
      "60/60 - 2s - loss: 3.6042e-04 - accuracy: 1.0000 - val_loss: 0.1049 - val_accuracy: 0.9787\n",
      "Epoch 98/100\n",
      "60/60 - 2s - loss: 3.5033e-04 - accuracy: 1.0000 - val_loss: 0.1050 - val_accuracy: 0.9789\n",
      "Epoch 99/100\n",
      "60/60 - 2s - loss: 3.3568e-04 - accuracy: 1.0000 - val_loss: 0.1057 - val_accuracy: 0.9783\n",
      "Epoch 100/100\n",
      "60/60 - 2s - loss: 3.1959e-04 - accuracy: 1.0000 - val_loss: 0.1060 - val_accuracy: 0.9789\n"
     ]
    }
   ],
   "source": [
    "train_history = model.fit(x=x_Train_norm, y=y_TrainOneHot, validation_split=0.2, epochs=100, batch_size=800, verbose=2)\n"
   ]
  },
  {
   "cell_type": "code",
   "execution_count": 37,
   "metadata": {},
   "outputs": [
    {
     "name": "stdout",
     "output_type": "stream",
     "text": [
      "313/313 [==============================] - 1s 1ms/step - loss: 0.0000e+00 - accuracy: 0.0000e+00\n"
     ]
    }
   ],
   "source": [
    "scores = model.evaluate(x_Test_norm, y_TestOneHot)"
   ]
  },
  {
   "cell_type": "code",
   "execution_count": 38,
   "metadata": {},
   "outputs": [
    {
     "name": "stdout",
     "output_type": "stream",
     "text": [
      "\t[Info] Accuracy of testing data = 0.0%\n"
     ]
    }
   ],
   "source": [
    "print(\"\\t[Info] Accuracy of testing data = {:2.1f}%\".format(scores[1]*100.0))\n"
   ]
  },
  {
   "cell_type": "code",
   "execution_count": 54,
   "metadata": {},
   "outputs": [],
   "source": [
    "img=cv2.imread('/Users/apple/Downloads/Numbers.jpeg', cv2.IMREAD_GRAYSCALE) "
   ]
  },
  {
   "cell_type": "code",
   "execution_count": 55,
   "metadata": {},
   "outputs": [],
   "source": [
    "crop_size = (28, 28)\n",
    "img = cv2.resize(img, crop_size, interpolation = cv2.INTER_CUBIC)"
   ]
  },
  {
   "cell_type": "code",
   "execution_count": 56,
   "metadata": {},
   "outputs": [],
   "source": [
    "img_2D = img.reshape(1,28*28).astype('float32')\n",
    "img_norm=img_2D/255\n",
    "img = img_norm\n",
    "predictions = model.predict_classes(img)"
   ]
  },
  {
   "cell_type": "code",
   "execution_count": 57,
   "metadata": {},
   "outputs": [
    {
     "name": "stdout",
     "output_type": "stream",
     "text": [
      "[2]\n"
     ]
    }
   ],
   "source": [
    "print(predictions)"
   ]
  },
  {
   "cell_type": "code",
   "execution_count": 58,
   "metadata": {},
   "outputs": [
    {
     "name": "stdout",
     "output_type": "stream",
     "text": [
      "Epoch 1/20\n",
      "60/60 - 1s - loss: 1.4333e-04 - accuracy: 1.0000 - val_loss: 0.1129 - val_accuracy: 0.9786\n",
      "Epoch 2/20\n",
      "60/60 - 1s - loss: 1.3748e-04 - accuracy: 1.0000 - val_loss: 0.1138 - val_accuracy: 0.9784\n",
      "Epoch 3/20\n",
      "60/60 - 1s - loss: 1.3347e-04 - accuracy: 1.0000 - val_loss: 0.1136 - val_accuracy: 0.9787\n",
      "Epoch 4/20\n",
      "60/60 - 1s - loss: 1.2782e-04 - accuracy: 1.0000 - val_loss: 0.1142 - val_accuracy: 0.9789\n",
      "Epoch 5/20\n",
      "60/60 - 1s - loss: 1.2460e-04 - accuracy: 1.0000 - val_loss: 0.1149 - val_accuracy: 0.9785\n",
      "Epoch 6/20\n",
      "60/60 - 1s - loss: 1.2069e-04 - accuracy: 1.0000 - val_loss: 0.1150 - val_accuracy: 0.9788\n",
      "Epoch 7/20\n",
      "60/60 - 1s - loss: 1.1529e-04 - accuracy: 1.0000 - val_loss: 0.1154 - val_accuracy: 0.9783\n",
      "Epoch 8/20\n",
      "60/60 - 1s - loss: 1.1188e-04 - accuracy: 1.0000 - val_loss: 0.1155 - val_accuracy: 0.9788\n",
      "Epoch 9/20\n",
      "60/60 - 1s - loss: 1.0932e-04 - accuracy: 1.0000 - val_loss: 0.1160 - val_accuracy: 0.9787\n",
      "Epoch 10/20\n",
      "60/60 - 2s - loss: 1.0404e-04 - accuracy: 1.0000 - val_loss: 0.1170 - val_accuracy: 0.9786\n",
      "Epoch 11/20\n",
      "60/60 - 2s - loss: 9.9529e-05 - accuracy: 1.0000 - val_loss: 0.1171 - val_accuracy: 0.9786\n",
      "Epoch 12/20\n",
      "60/60 - 2s - loss: 9.6129e-05 - accuracy: 1.0000 - val_loss: 0.1167 - val_accuracy: 0.9787\n",
      "Epoch 13/20\n",
      "60/60 - 1s - loss: 9.3189e-05 - accuracy: 1.0000 - val_loss: 0.1168 - val_accuracy: 0.9787\n",
      "Epoch 14/20\n",
      "60/60 - 2s - loss: 8.9467e-05 - accuracy: 1.0000 - val_loss: 0.1182 - val_accuracy: 0.9788\n",
      "Epoch 15/20\n",
      "60/60 - 1s - loss: 8.6801e-05 - accuracy: 1.0000 - val_loss: 0.1178 - val_accuracy: 0.9787\n",
      "Epoch 16/20\n",
      "60/60 - 2s - loss: 8.3326e-05 - accuracy: 1.0000 - val_loss: 0.1188 - val_accuracy: 0.9787\n",
      "Epoch 17/20\n",
      "60/60 - 2s - loss: 8.1325e-05 - accuracy: 1.0000 - val_loss: 0.1184 - val_accuracy: 0.9791\n",
      "Epoch 18/20\n",
      "60/60 - 2s - loss: 7.9144e-05 - accuracy: 1.0000 - val_loss: 0.1200 - val_accuracy: 0.9791\n",
      "Epoch 19/20\n",
      "60/60 - 2s - loss: 7.6189e-05 - accuracy: 1.0000 - val_loss: 0.1194 - val_accuracy: 0.9790\n",
      "Epoch 20/20\n",
      "60/60 - 2s - loss: 7.2660e-05 - accuracy: 1.0000 - val_loss: 0.1195 - val_accuracy: 0.9787\n"
     ]
    }
   ],
   "source": [
    "train_history = model.fit(x=x_Train_norm, y=y_TrainOneHot, validation_split=0.2, epochs=20, batch_size=800, verbose=2)"
   ]
  },
  {
   "cell_type": "code",
   "execution_count": 59,
   "metadata": {},
   "outputs": [],
   "source": [
    "X = x_Test_norm[0:10,:]"
   ]
  },
  {
   "cell_type": "code",
   "execution_count": 60,
   "metadata": {},
   "outputs": [
    {
     "name": "stdout",
     "output_type": "stream",
     "text": [
      "[[0. 0. 0. ... 0. 0. 0.]\n",
      " [0. 0. 0. ... 0. 0. 0.]\n",
      " [0. 0. 0. ... 0. 0. 0.]\n",
      " ...\n",
      " [0. 0. 0. ... 0. 0. 0.]\n",
      " [0. 0. 0. ... 0. 0. 0.]\n",
      " [0. 0. 0. ... 0. 0. 0.]]\n"
     ]
    }
   ],
   "source": [
    "print(X)"
   ]
  },
  {
   "cell_type": "code",
   "execution_count": 61,
   "metadata": {},
   "outputs": [],
   "source": [
    "predictions = model.predict_classes(X)"
   ]
  },
  {
   "cell_type": "code",
   "execution_count": 62,
   "metadata": {},
   "outputs": [
    {
     "name": "stdout",
     "output_type": "stream",
     "text": [
      "[7 2 1 0 4 1 4 9 5 9]\n"
     ]
    }
   ],
   "source": [
    "print(predictions)"
   ]
  },
  {
   "cell_type": "code",
   "execution_count": 63,
   "metadata": {},
   "outputs": [],
   "source": [
    "cv2.imshow(\"image\", img)"
   ]
  },
  {
   "cell_type": "code",
   "execution_count": null,
   "metadata": {},
   "outputs": [],
   "source": [
    "cv2.waitKey(0)"
   ]
  },
  {
   "cell_type": "code",
   "execution_count": null,
   "metadata": {},
   "outputs": [],
   "source": []
  }
 ],
 "metadata": {
  "kernelspec": {
   "display_name": "Python 3",
   "language": "python",
   "name": "python3"
  },
  "language_info": {
   "codemirror_mode": {
    "name": "ipython",
    "version": 3
   },
   "file_extension": ".py",
   "mimetype": "text/x-python",
   "name": "python",
   "nbconvert_exporter": "python",
   "pygments_lexer": "ipython3",
   "version": "3.8.5"
  }
 },
 "nbformat": 4,
 "nbformat_minor": 4
}
